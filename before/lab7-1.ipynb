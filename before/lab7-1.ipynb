{
 "cells": [
  {
   "cell_type": "code",
   "execution_count": 1,
   "metadata": {},
   "outputs": [
    {
     "name": "stdout",
     "output_type": "stream",
     "text": [
      "ชื่อพนักงาน: ำ\n",
      "เงินเดือน: 1\n",
      "ค่าล่วงเวลา: 2000.0\n",
      "เงินเดือนทั้งหมด: 2001.0\n"
     ]
    }
   ],
   "source": [
    "name = str(input(\"กรุณาป้อนชื่อพนักงงาน : \"))\n",
    "monny = int(input(\"กรุณาป้อนเงินเดือน : \"))\n",
    "time = float(input(\"กรุณาป้อนชั่วโมงทำงาน : \"))\n",
    "def Calculator (time):\n",
    "    if time > 40:\n",
    "        a =time * 150\n",
    "    else:\n",
    "        a = time * 100\n",
    "    return a\n",
    "def Calculator1 (monny, time):\n",
    "    if time > 40:\n",
    "        a = time * 150\n",
    "        b = monny + a\n",
    "    else:\n",
    "        a = time * 100\n",
    "        b = monny + a\n",
    "    return b\n",
    "\n",
    "L = Calculator (time)\n",
    "O = Calculator1(monny,time)\n",
    "print(\"ชื่อพนักงาน:\", name)\n",
    "print(\"เงินเดือน:\", monny)\n",
    "print(\"ค่าล่วงเวลา:\", L)\n",
    "print(\"เงินเดือนทั้งหมด:\", O)"
   ]
  }
 ],
 "metadata": {
  "kernelspec": {
   "display_name": "Python 3",
   "language": "python",
   "name": "python3"
  },
  "language_info": {
   "codemirror_mode": {
    "name": "ipython",
    "version": 3
   },
   "file_extension": ".py",
   "mimetype": "text/x-python",
   "name": "python",
   "nbconvert_exporter": "python",
   "pygments_lexer": "ipython3",
   "version": "3.12.4"
  }
 },
 "nbformat": 4,
 "nbformat_minor": 2
}
