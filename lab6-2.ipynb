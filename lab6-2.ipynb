{
 "cells": [
  {
   "cell_type": "code",
   "execution_count": 9,
   "metadata": {},
   "outputs": [
    {
     "name": "stdout",
     "output_type": "stream",
     "text": [
      "ไม่สามารถใส่คะแนนมากกว่า 20 คะแนนได้\n",
      "ไม่สามารถใส่คะแนนมากกว่า 20 คะแนนได้\n",
      "ไม่สามารถใส่คะแนนมากกว่า 20 คะแนนได้\n",
      "คะแนนรวม: 5\n"
     ]
    }
   ],
   "source": [
    "def Ex(a, c, t):\n",
    "    total_score = a + c + t\n",
    "    return total_score\n",
    "\n",
    "\n",
    "\n",
    "a = int(input(\"คะแนนเก็บ (ไม่เกิน 20 คะแนน): \"))\n",
    "while a > 20:\n",
    "    print(\"ไม่สามารถใส่คะแนนมากกว่า 20 คะแนนได้\")\n",
    "    a = int(input(\"กรุณาใส่คะแนนเก็บใหม่ (ไม่เกิน 20 คะแนน): \"))\n",
    "    \n",
    "c = int(input(\"คะแนนจิตพิสัย (ไม่เกิน 10 คะแนน): \"))\n",
    "while c > 10:\n",
    "    print(\"ไม่สามารถใส่คะแนนมากกว่า 10 คะแนนได้\")\n",
    "    c = int(input(\"กรุณาใส่คะแนนจิตพิสัยใหม่ (ไม่เกิน 10 คะแนน): \"))\n",
    "    \n",
    "t = int(input(\"คะแนนกลางภาค (ไม่เกิน 20 คะแนน): \"))\n",
    "while t > 20:\n",
    "    print(\"ไม่สามารถใส่คะแนนมากกว่า 20 คะแนนได้\")\n",
    "    t = int(input(\"กรุณาใส่คะแนนกลางภาคใหม่ (ไม่เกิน 20 คะแนน): \"))\n",
    "    \n",
    "total_score = Ex(a, c, t)\n",
    "print(\"คะแนนรวม:\" ,total_score)"
   ]
  }
 ],
 "metadata": {
  "kernelspec": {
   "display_name": "Python 3",
   "language": "python",
   "name": "python3"
  },
  "language_info": {
   "codemirror_mode": {
    "name": "ipython",
    "version": 3
   },
   "file_extension": ".py",
   "mimetype": "text/x-python",
   "name": "python",
   "nbconvert_exporter": "python",
   "pygments_lexer": "ipython3",
   "version": "3.12.4"
  }
 },
 "nbformat": 4,
 "nbformat_minor": 2
}
